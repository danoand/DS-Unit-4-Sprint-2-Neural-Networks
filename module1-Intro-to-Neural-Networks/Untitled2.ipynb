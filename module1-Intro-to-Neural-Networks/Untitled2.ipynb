{
 "cells": [
  {
   "cell_type": "code",
   "execution_count": 1,
   "metadata": {},
   "outputs": [],
   "source": [
    "import pandas as pd\n",
    "import numpy as np\n",
    "import random"
   ]
  },
  {
   "cell_type": "markdown",
   "metadata": {},
   "source": [
    "### GENERATE AN INPUT ARRAY"
   ]
  },
  {
   "cell_type": "code",
   "execution_count": 2,
   "metadata": {},
   "outputs": [],
   "source": [
    "inputs = pd.DataFrame(\n",
    "    {\"x1\": [0,1,0,1], \"x2\": [0,0,1,1], \"bias\": [3,3,3,3]}\n",
    ").to_numpy()"
   ]
  },
  {
   "cell_type": "code",
   "execution_count": 3,
   "metadata": {},
   "outputs": [
    {
     "data": {
      "text/plain": [
       "array([[0, 0, 3],\n",
       "       [1, 0, 3],\n",
       "       [0, 1, 3],\n",
       "       [1, 1, 3]])"
      ]
     },
     "execution_count": 3,
     "metadata": {},
     "output_type": "execute_result"
    }
   ],
   "source": [
    "inputs"
   ]
  },
  {
   "cell_type": "markdown",
   "metadata": {},
   "source": [
    "### GENERATE AN OUTPUT ARRAY"
   ]
  },
  {
   "cell_type": "code",
   "execution_count": 4,
   "metadata": {},
   "outputs": [],
   "source": [
    "outputs = pd.DataFrame(\n",
    "    {\"y\": [1,1,1,0]}\n",
    ").to_numpy()"
   ]
  },
  {
   "cell_type": "code",
   "execution_count": 5,
   "metadata": {},
   "outputs": [
    {
     "data": {
      "text/plain": [
       "array([[1],\n",
       "       [1],\n",
       "       [1],\n",
       "       [0]])"
      ]
     },
     "execution_count": 5,
     "metadata": {},
     "output_type": "execute_result"
    }
   ],
   "source": [
    "outputs"
   ]
  },
  {
   "cell_type": "markdown",
   "metadata": {},
   "source": [
    "### GENERATE AN INITIAL SET OF WEIGHTS"
   ]
  },
  {
   "cell_type": "code",
   "execution_count": 6,
   "metadata": {},
   "outputs": [],
   "source": [
    "weights = pd.DataFrame(\n",
    "    {\"weights\": [random.uniform(-0.2, 0.25) for i in range(3)]}\n",
    ").to_numpy()"
   ]
  },
  {
   "cell_type": "code",
   "execution_count": 7,
   "metadata": {},
   "outputs": [
    {
     "data": {
      "text/plain": [
       "array([[-0.02096727],\n",
       "       [ 0.04315872],\n",
       "       [ 0.20232374]])"
      ]
     },
     "execution_count": 7,
     "metadata": {},
     "output_type": "execute_result"
    }
   ],
   "source": [
    "weights"
   ]
  },
  {
   "cell_type": "markdown",
   "metadata": {},
   "source": [
    "### DEFINE ACTIVATION & DERIVATIVE FUNCTIONS"
   ]
  },
  {
   "cell_type": "code",
   "execution_count": 8,
   "metadata": {},
   "outputs": [],
   "source": [
    "# Sigmoid function to serve as activation function\n",
    "def sigmoid(arr: np.array):\n",
    "    return 1/(1+np.exp(-arr))\n",
    "\n",
    "# Derivative of the sigmoid function for use in updating weights\n",
    "def sigmoid_derivative(arr: np.array):\n",
    "    sx = sigmoid(arr)\n",
    "    return sx * (1 - sx)"
   ]
  },
  {
   "cell_type": "markdown",
   "metadata": {},
   "source": [
    "### DEFINE THE ITERATION PROCESS"
   ]
  },
  {
   "cell_type": "code",
   "execution_count": 9,
   "metadata": {},
   "outputs": [],
   "source": [
    "for iteration in range(50000):\n",
    "    # WEIGHTED SUM OF INPUTS & WEIGHTS\n",
    "    weighted_sum = np.dot(inputs, weights)\n",
    "    \n",
    "    # ACTIVATE OUTPUTS\n",
    "    activate_output = sigmoid(weighted_sum)\n",
    "    \n",
    "    # CALCULATE ERROR ADJUSTMENTS\n",
    "    error = outputs - activate_output\n",
    "    adjustments = error * sigmoid_derivative(weighted_sum)\n",
    "    \n",
    "    # TWEAK WEIGHTS\n",
    "    weights += np.dot(inputs.T, adjustments)"
   ]
  },
  {
   "cell_type": "code",
   "execution_count": 10,
   "metadata": {},
   "outputs": [
    {
     "name": "stdout",
     "output_type": "stream",
     "text": [
      "Weights after training\n",
      "[[-10.32126009]\n",
      " [-10.32126009]\n",
      " [  5.21266623]]\n",
      "Output after training\n",
      "[[0.99999984]\n",
      " [0.99511519]\n",
      " [0.99511519]\n",
      " [0.00666293]]\n"
     ]
    }
   ],
   "source": [
    "print(\"Weights after training\")\n",
    "print(weights)\n",
    "\n",
    "print(\"Output after training\")\n",
    "print(activate_output)"
   ]
  },
  {
   "cell_type": "code",
   "execution_count": null,
   "metadata": {},
   "outputs": [],
   "source": []
  }
 ],
 "metadata": {
  "kernelspec": {
   "display_name": "U4-S2-NNF (Python3)",
   "language": "python",
   "name": "u4-s2-nnf"
  },
  "language_info": {
   "codemirror_mode": {
    "name": "ipython",
    "version": 3
   },
   "file_extension": ".py",
   "mimetype": "text/x-python",
   "name": "python",
   "nbconvert_exporter": "python",
   "pygments_lexer": "ipython3",
   "version": "3.7.0"
  }
 },
 "nbformat": 4,
 "nbformat_minor": 4
}
