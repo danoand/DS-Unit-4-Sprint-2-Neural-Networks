{
 "cells": [
  {
   "cell_type": "markdown",
   "metadata": {
    "colab_type": "text",
    "id": "pBQsZEJmubLs"
   },
   "source": [
    "<img align=\"left\" src=\"https://lever-client-logos.s3.amazonaws.com/864372b1-534c-480e-acd5-9711f850815c-1524247202159.png\" width=200>\n",
    "<br></br>\n",
    "\n",
    "# Neural Network Framework (Keras)\n",
    "\n",
    "## *Data Science Unit 4 Sprint 2 Assignment 3*\n",
    "\n",
    "## Use the Keras Library to build a Multi-Layer Perceptron Model on the Boston Housing dataset\n",
    "\n",
    "- The Boston Housing dataset comes with the Keras library so use Keras to import it into your notebook. \n",
    "- Normalize the data (all features should have roughly the same scale)\n",
    "- Import the type of model and layers that you will need from Keras.\n",
    "- Instantiate a model object and use `model.add()` to add layers to your model\n",
    "- Since this is a regression model you will have a single output node in the final layer.\n",
    "- Use activation functions that are appropriate for this task\n",
    "- Compile your model\n",
    "- Fit your model and report its accuracy in terms of Mean Squared Error\n",
    "- Use the history object that is returned from model.fit to make graphs of the model's loss or train/validation accuracies by epoch. \n",
    "- Run this same data through a linear regression model. Which achieves higher accuracy?\n",
    "- Do a little bit of feature engineering and see how that affects your neural network model. (you will need to change your model to accept more inputs)\n",
    "- After feature engineering, which model sees a greater accuracy boost due to the new features?"
   ]
  },
  {
   "cell_type": "markdown",
   "metadata": {},
   "source": [
    "#### IMPORTS"
   ]
  },
  {
   "cell_type": "code",
   "execution_count": 1,
   "metadata": {
    "colab": {},
    "colab_type": "code",
    "id": "8NLTAR87uYJ-"
   },
   "outputs": [],
   "source": [
    "import pandas as pd\n",
    "from sklearn.preprocessing import StandardScaler\n",
    "\n",
    "from tensorflow import keras\n",
    "from tensorflow.keras.datasets import boston_housing\n",
    "\n",
    "from tensorflow.keras.models import Sequential\n",
    "from tensorflow.keras.layers import Dense\n",
    "\n",
    "import matplotlib.pyplot as plt\n",
    "\n",
    "from tensorflow.keras.layers import Flatten\n",
    "import numpy as np\n",
    "\n",
    "from tensorflow.keras.datasets import mnist"
   ]
  },
  {
   "cell_type": "markdown",
   "metadata": {},
   "source": [
    "#### LOAD DATA"
   ]
  },
  {
   "cell_type": "code",
   "execution_count": 2,
   "metadata": {},
   "outputs": [],
   "source": [
    "(X_train, y_train), (X_test, y_test) = boston_housing.load_data()"
   ]
  },
  {
   "cell_type": "code",
   "execution_count": 3,
   "metadata": {},
   "outputs": [
    {
     "data": {
      "text/plain": [
       "((404, 13), (404,))"
      ]
     },
     "execution_count": 3,
     "metadata": {},
     "output_type": "execute_result"
    }
   ],
   "source": [
    "X_train.shape, y_train.shape"
   ]
  },
  {
   "cell_type": "code",
   "execution_count": 4,
   "metadata": {},
   "outputs": [
    {
     "data": {
      "text/html": [
       "<div>\n",
       "<style scoped>\n",
       "    .dataframe tbody tr th:only-of-type {\n",
       "        vertical-align: middle;\n",
       "    }\n",
       "\n",
       "    .dataframe tbody tr th {\n",
       "        vertical-align: top;\n",
       "    }\n",
       "\n",
       "    .dataframe thead th {\n",
       "        text-align: right;\n",
       "    }\n",
       "</style>\n",
       "<table border=\"1\" class=\"dataframe\">\n",
       "  <thead>\n",
       "    <tr style=\"text-align: right;\">\n",
       "      <th></th>\n",
       "      <th>0</th>\n",
       "      <th>1</th>\n",
       "      <th>2</th>\n",
       "      <th>3</th>\n",
       "      <th>4</th>\n",
       "      <th>5</th>\n",
       "      <th>6</th>\n",
       "      <th>7</th>\n",
       "      <th>8</th>\n",
       "      <th>9</th>\n",
       "      <th>10</th>\n",
       "      <th>11</th>\n",
       "      <th>12</th>\n",
       "    </tr>\n",
       "  </thead>\n",
       "  <tbody>\n",
       "    <tr>\n",
       "      <th>count</th>\n",
       "      <td>404.000000</td>\n",
       "      <td>404.000000</td>\n",
       "      <td>404.000000</td>\n",
       "      <td>404.000000</td>\n",
       "      <td>404.000000</td>\n",
       "      <td>404.000000</td>\n",
       "      <td>404.000000</td>\n",
       "      <td>404.000000</td>\n",
       "      <td>404.000000</td>\n",
       "      <td>404.000000</td>\n",
       "      <td>404.000000</td>\n",
       "      <td>404.000000</td>\n",
       "      <td>404.000000</td>\n",
       "    </tr>\n",
       "    <tr>\n",
       "      <th>mean</th>\n",
       "      <td>3.745111</td>\n",
       "      <td>11.480198</td>\n",
       "      <td>11.104431</td>\n",
       "      <td>0.061881</td>\n",
       "      <td>0.557356</td>\n",
       "      <td>6.267082</td>\n",
       "      <td>69.010644</td>\n",
       "      <td>3.740271</td>\n",
       "      <td>9.440594</td>\n",
       "      <td>405.898515</td>\n",
       "      <td>18.475990</td>\n",
       "      <td>354.783168</td>\n",
       "      <td>12.740817</td>\n",
       "    </tr>\n",
       "    <tr>\n",
       "      <th>std</th>\n",
       "      <td>9.240734</td>\n",
       "      <td>23.767711</td>\n",
       "      <td>6.811308</td>\n",
       "      <td>0.241238</td>\n",
       "      <td>0.117293</td>\n",
       "      <td>0.709788</td>\n",
       "      <td>27.940665</td>\n",
       "      <td>2.030215</td>\n",
       "      <td>8.698360</td>\n",
       "      <td>166.374543</td>\n",
       "      <td>2.200382</td>\n",
       "      <td>94.111148</td>\n",
       "      <td>7.254545</td>\n",
       "    </tr>\n",
       "    <tr>\n",
       "      <th>min</th>\n",
       "      <td>0.006320</td>\n",
       "      <td>0.000000</td>\n",
       "      <td>0.460000</td>\n",
       "      <td>0.000000</td>\n",
       "      <td>0.385000</td>\n",
       "      <td>3.561000</td>\n",
       "      <td>2.900000</td>\n",
       "      <td>1.129600</td>\n",
       "      <td>1.000000</td>\n",
       "      <td>188.000000</td>\n",
       "      <td>12.600000</td>\n",
       "      <td>0.320000</td>\n",
       "      <td>1.730000</td>\n",
       "    </tr>\n",
       "    <tr>\n",
       "      <th>25%</th>\n",
       "      <td>0.081437</td>\n",
       "      <td>0.000000</td>\n",
       "      <td>5.130000</td>\n",
       "      <td>0.000000</td>\n",
       "      <td>0.453000</td>\n",
       "      <td>5.874750</td>\n",
       "      <td>45.475000</td>\n",
       "      <td>2.077100</td>\n",
       "      <td>4.000000</td>\n",
       "      <td>279.000000</td>\n",
       "      <td>17.225000</td>\n",
       "      <td>374.672500</td>\n",
       "      <td>6.890000</td>\n",
       "    </tr>\n",
       "    <tr>\n",
       "      <th>50%</th>\n",
       "      <td>0.268880</td>\n",
       "      <td>0.000000</td>\n",
       "      <td>9.690000</td>\n",
       "      <td>0.000000</td>\n",
       "      <td>0.538000</td>\n",
       "      <td>6.198500</td>\n",
       "      <td>78.500000</td>\n",
       "      <td>3.142300</td>\n",
       "      <td>5.000000</td>\n",
       "      <td>330.000000</td>\n",
       "      <td>19.100000</td>\n",
       "      <td>391.250000</td>\n",
       "      <td>11.395000</td>\n",
       "    </tr>\n",
       "    <tr>\n",
       "      <th>75%</th>\n",
       "      <td>3.674808</td>\n",
       "      <td>12.500000</td>\n",
       "      <td>18.100000</td>\n",
       "      <td>0.000000</td>\n",
       "      <td>0.631000</td>\n",
       "      <td>6.609000</td>\n",
       "      <td>94.100000</td>\n",
       "      <td>5.118000</td>\n",
       "      <td>24.000000</td>\n",
       "      <td>666.000000</td>\n",
       "      <td>20.200000</td>\n",
       "      <td>396.157500</td>\n",
       "      <td>17.092500</td>\n",
       "    </tr>\n",
       "    <tr>\n",
       "      <th>max</th>\n",
       "      <td>88.976200</td>\n",
       "      <td>100.000000</td>\n",
       "      <td>27.740000</td>\n",
       "      <td>1.000000</td>\n",
       "      <td>0.871000</td>\n",
       "      <td>8.725000</td>\n",
       "      <td>100.000000</td>\n",
       "      <td>10.710300</td>\n",
       "      <td>24.000000</td>\n",
       "      <td>711.000000</td>\n",
       "      <td>22.000000</td>\n",
       "      <td>396.900000</td>\n",
       "      <td>37.970000</td>\n",
       "    </tr>\n",
       "  </tbody>\n",
       "</table>\n",
       "</div>"
      ],
      "text/plain": [
       "               0           1           2           3           4           5   \\\n",
       "count  404.000000  404.000000  404.000000  404.000000  404.000000  404.000000   \n",
       "mean     3.745111   11.480198   11.104431    0.061881    0.557356    6.267082   \n",
       "std      9.240734   23.767711    6.811308    0.241238    0.117293    0.709788   \n",
       "min      0.006320    0.000000    0.460000    0.000000    0.385000    3.561000   \n",
       "25%      0.081437    0.000000    5.130000    0.000000    0.453000    5.874750   \n",
       "50%      0.268880    0.000000    9.690000    0.000000    0.538000    6.198500   \n",
       "75%      3.674808   12.500000   18.100000    0.000000    0.631000    6.609000   \n",
       "max     88.976200  100.000000   27.740000    1.000000    0.871000    8.725000   \n",
       "\n",
       "               6           7           8           9           10          11  \\\n",
       "count  404.000000  404.000000  404.000000  404.000000  404.000000  404.000000   \n",
       "mean    69.010644    3.740271    9.440594  405.898515   18.475990  354.783168   \n",
       "std     27.940665    2.030215    8.698360  166.374543    2.200382   94.111148   \n",
       "min      2.900000    1.129600    1.000000  188.000000   12.600000    0.320000   \n",
       "25%     45.475000    2.077100    4.000000  279.000000   17.225000  374.672500   \n",
       "50%     78.500000    3.142300    5.000000  330.000000   19.100000  391.250000   \n",
       "75%     94.100000    5.118000   24.000000  666.000000   20.200000  396.157500   \n",
       "max    100.000000   10.710300   24.000000  711.000000   22.000000  396.900000   \n",
       "\n",
       "               12  \n",
       "count  404.000000  \n",
       "mean    12.740817  \n",
       "std      7.254545  \n",
       "min      1.730000  \n",
       "25%      6.890000  \n",
       "50%     11.395000  \n",
       "75%     17.092500  \n",
       "max     37.970000  "
      ]
     },
     "execution_count": 4,
     "metadata": {},
     "output_type": "execute_result"
    }
   ],
   "source": [
    "pd.DataFrame(X_train).describe()"
   ]
  },
  {
   "cell_type": "code",
   "execution_count": 5,
   "metadata": {},
   "outputs": [
    {
     "data": {
      "text/html": [
       "<div>\n",
       "<style scoped>\n",
       "    .dataframe tbody tr th:only-of-type {\n",
       "        vertical-align: middle;\n",
       "    }\n",
       "\n",
       "    .dataframe tbody tr th {\n",
       "        vertical-align: top;\n",
       "    }\n",
       "\n",
       "    .dataframe thead th {\n",
       "        text-align: right;\n",
       "    }\n",
       "</style>\n",
       "<table border=\"1\" class=\"dataframe\">\n",
       "  <thead>\n",
       "    <tr style=\"text-align: right;\">\n",
       "      <th></th>\n",
       "      <th>0</th>\n",
       "    </tr>\n",
       "  </thead>\n",
       "  <tbody>\n",
       "    <tr>\n",
       "      <th>count</th>\n",
       "      <td>404.000000</td>\n",
       "    </tr>\n",
       "    <tr>\n",
       "      <th>mean</th>\n",
       "      <td>22.395050</td>\n",
       "    </tr>\n",
       "    <tr>\n",
       "      <th>std</th>\n",
       "      <td>9.210442</td>\n",
       "    </tr>\n",
       "    <tr>\n",
       "      <th>min</th>\n",
       "      <td>5.000000</td>\n",
       "    </tr>\n",
       "    <tr>\n",
       "      <th>25%</th>\n",
       "      <td>16.675000</td>\n",
       "    </tr>\n",
       "    <tr>\n",
       "      <th>50%</th>\n",
       "      <td>20.750000</td>\n",
       "    </tr>\n",
       "    <tr>\n",
       "      <th>75%</th>\n",
       "      <td>24.800000</td>\n",
       "    </tr>\n",
       "    <tr>\n",
       "      <th>max</th>\n",
       "      <td>50.000000</td>\n",
       "    </tr>\n",
       "  </tbody>\n",
       "</table>\n",
       "</div>"
      ],
      "text/plain": [
       "                0\n",
       "count  404.000000\n",
       "mean    22.395050\n",
       "std      9.210442\n",
       "min      5.000000\n",
       "25%     16.675000\n",
       "50%     20.750000\n",
       "75%     24.800000\n",
       "max     50.000000"
      ]
     },
     "execution_count": 5,
     "metadata": {},
     "output_type": "execute_result"
    }
   ],
   "source": [
    "pd.DataFrame(y_train).describe()"
   ]
  },
  {
   "cell_type": "markdown",
   "metadata": {},
   "source": [
    "#### SCALE INPUT DATA"
   ]
  },
  {
   "cell_type": "code",
   "execution_count": 6,
   "metadata": {},
   "outputs": [],
   "source": [
    "# Scale the input data\n",
    "scaler = StandardScaler()\n",
    "X_train_scld = scaler.fit_transform(X_train)\n",
    "X_test_scld  = scaler.fit_transform(X_test)\n",
    "\n",
    "# print(f'X_train scaled:\\n{pd.DataFrame(X_train_scld).describe()}')\n",
    "# print(f'\\nX_test scaled:\\n{pd.DataFrame(X_test_scld).describe()}')"
   ]
  },
  {
   "cell_type": "markdown",
   "metadata": {},
   "source": [
    "#### STAND UP A NEURAL NETWORK MODEL"
   ]
  },
  {
   "cell_type": "code",
   "execution_count": 7,
   "metadata": {},
   "outputs": [
    {
     "name": "stdout",
     "output_type": "stream",
     "text": [
      "Model: \"sequential\"\n",
      "_________________________________________________________________\n",
      "Layer (type)                 Output Shape              Param #   \n",
      "=================================================================\n",
      "dense (Dense)                (None, 13)                182       \n",
      "_________________________________________________________________\n",
      "dense_1 (Dense)              (None, 1)                 14        \n",
      "=================================================================\n",
      "Total params: 196\n",
      "Trainable params: 196\n",
      "Non-trainable params: 0\n",
      "_________________________________________________________________\n"
     ]
    }
   ],
   "source": [
    "# Create a model object (to be configured)\n",
    "model = Sequential()\n",
    "\n",
    "# Declare input and hidden layers\n",
    "model.add(Dense(13, input_dim=13, activation='relu'))\n",
    "model.add(Dense(1, input_dim=13, activation='relu'))\n",
    "\n",
    "# Configure the model for fitting/training\n",
    "model.compile(loss='mse', optimizer='adam')\n",
    "model.summary()"
   ]
  },
  {
   "cell_type": "markdown",
   "metadata": {},
   "source": [
    "#### FIT/TRAIN THE MODEL"
   ]
  },
  {
   "cell_type": "code",
   "execution_count": 8,
   "metadata": {},
   "outputs": [],
   "source": [
    "num_epochs = 100\n",
    "model_history = model.fit(X_train_scld, y_train, epochs=num_epochs, verbose=0)"
   ]
  },
  {
   "cell_type": "markdown",
   "metadata": {},
   "source": [
    "#### PLOT MODEL HISTORY"
   ]
  },
  {
   "cell_type": "code",
   "execution_count": 9,
   "metadata": {},
   "outputs": [
    {
     "data": {
      "text/plain": [
       "[<matplotlib.lines.Line2D at 0x144200cc0>]"
      ]
     },
     "execution_count": 9,
     "metadata": {},
     "output_type": "execute_result"
    },
    {
     "data": {
      "image/png": "[encoded data removed]",
      "text/plain": [
       "<Figure size 432x288 with 1 Axes>"
      ]
     },
     "metadata": {
      "needs_background": "light"
     },
     "output_type": "display_data"
    }
   ],
   "source": [
    "plt.figure()\n",
    "plt.plot(range(num_epochs), model_history.history['loss'])"
   ]
  },
  {
   "cell_type": "markdown",
   "metadata": {
    "colab_type": "text",
    "id": "SfcFnOONyuNm"
   },
   "source": [
    "## Use the Keras Library to build an image recognition network using the Fashion-MNIST dataset (also comes with keras)\n",
    "\n",
    "- Load and preprocess the image data similar to how we preprocessed the MNIST data in class.\n",
    "- Make sure to one-hot encode your category labels\n",
    "- The number of nodes in your output layer should equal the number of classes you want to predict for Fashion-MNIST.\n",
    "- Try different hyperparameters. What is the highest accuracy that you are able to achieve.\n",
    "- Use the history object that is returned from model.fit to make graphs of the model's loss or train/validation accuracies by epoch. \n",
    "- Remember that neural networks fall prey to randomness so you may need to run your model multiple times (or use Cross Validation) in order to tell if a change to a hyperparameter is truly producing better results."
   ]
  },
  {
   "cell_type": "markdown",
   "metadata": {},
   "source": [
    "#### IMPORTS"
   ]
  },
  {
   "cell_type": "markdown",
   "metadata": {},
   "source": [
    "#### LOAD DATA"
   ]
  },
  {
   "cell_type": "code",
   "execution_count": 10,
   "metadata": {},
   "outputs": [
    {
     "name": "stdout",
     "output_type": "stream",
     "text": [
      "X shape: (60000, 28, 28)\n",
      "y shape: (60000,)\n"
     ]
    }
   ],
   "source": [
    "(XM_train, ym_train), (XM_test, ym_test) = mnist.load_data()\n",
    "\n",
    "print(f'X shape: {XM_train.shape}')\n",
    "print(f'y shape: {ym_train.shape}')"
   ]
  },
  {
   "cell_type": "code",
   "execution_count": 11,
   "metadata": {
    "colab": {},
    "colab_type": "code",
    "id": "szi6-IpuzaH1"
   },
   "outputs": [],
   "source": [
    "# Transform X values (0 => 255) to (0..1)\n",
    "XM_train_scld = XM_train.astype('float32') / 255.0\n",
    "XM_test_scld  = XM_test.astype('float32')  / 255.0"
   ]
  },
  {
   "cell_type": "code",
   "execution_count": 12,
   "metadata": {},
   "outputs": [
    {
     "name": "stdout",
     "output_type": "stream",
     "text": [
      "Output is one of 10 classes: [0. 0. 0. 0. 1. 0. 0. 0. 0. 0.]\n"
     ]
    }
   ],
   "source": [
    "# Encode the output as categorical data\n",
    "num_classes = 10 # number of classes we have is 10\n",
    "\n",
    "ym_train_cat = keras.utils.to_categorical(ym_train, num_classes)\n",
    "ym_test_cat  = keras.utils.to_categorical(ym_test, num_classes)\n",
    "print(f'Output is one of 10 classes: {ym_train_cat[2]}')"
   ]
  },
  {
   "cell_type": "code",
   "execution_count": 13,
   "metadata": {},
   "outputs": [
    {
     "name": "stdout",
     "output_type": "stream",
     "text": [
      "Model: \"sequential_1\"\n",
      "_________________________________________________________________\n",
      "Layer (type)                 Output Shape              Param #   \n",
      "=================================================================\n",
      "flatten (Flatten)            (None, 784)               0         \n",
      "_________________________________________________________________\n",
      "dense_2 (Dense)              (None, 10)                7850      \n",
      "=================================================================\n",
      "Total params: 7,850\n",
      "Trainable params: 7,850\n",
      "Non-trainable params: 0\n",
      "_________________________________________________________________\n"
     ]
    }
   ],
   "source": [
    "np.random.seed(42)\n",
    "\n",
    "model_mnst = Sequential()\n",
    "model_mnst.add(Flatten(input_shape=(28, 28)))   # flatten the input into a single array\n",
    "model_mnst.add(Dense(10, activation=\"softmax\")) # add a layer with 20 outputs using the softmax activation function\n",
    "\n",
    "# Configure the model for training\n",
    "model_mnst.compile(loss='categorical_crossentropy', optimizer='adam', metrics=['accuracy'])\n",
    "model_mnst.summary()"
   ]
  },
  {
   "cell_type": "code",
   "execution_count": 14,
   "metadata": {},
   "outputs": [
    {
     "name": "stdout",
     "output_type": "stream",
     "text": [
      "Epoch 1/100\n",
      "1875/1875 [==============================] - 3s 1ms/step - loss: 0.4695 - accuracy: 0.8770\n",
      "Epoch 2/100\n",
      "1875/1875 [==============================] - 3s 1ms/step - loss: 0.3036 - accuracy: 0.9150\n",
      "Epoch 3/100\n",
      "1875/1875 [==============================] - 3s 2ms/step - loss: 0.2837 - accuracy: 0.9209\n",
      "Epoch 4/100\n",
      "1875/1875 [==============================] - 4s 2ms/step - loss: 0.2734 - accuracy: 0.9233\n",
      "Epoch 5/100\n",
      "1875/1875 [==============================] - 3s 2ms/step - loss: 0.2668 - accuracy: 0.9254\n",
      "Epoch 6/100\n",
      "1875/1875 [==============================] - 3s 1ms/step - loss: 0.2622 - accuracy: 0.9278\n",
      "Epoch 7/100\n",
      "1875/1875 [==============================] - 3s 1ms/step - loss: 0.2583 - accuracy: 0.9284\n",
      "Epoch 8/100\n",
      "1875/1875 [==============================] - 3s 1ms/step - loss: 0.2555 - accuracy: 0.9286\n",
      "Epoch 9/100\n",
      "1875/1875 [==============================] - 3s 1ms/step - loss: 0.2532 - accuracy: 0.9306\n",
      "Epoch 10/100\n",
      "1875/1875 [==============================] - 3s 1ms/step - loss: 0.2509 - accuracy: 0.9310\n",
      "Epoch 11/100\n",
      "1875/1875 [==============================] - 3s 1ms/step - loss: 0.2494 - accuracy: 0.9314\n",
      "Epoch 12/100\n",
      "1875/1875 [==============================] - 3s 1ms/step - loss: 0.2476 - accuracy: 0.9316\n",
      "Epoch 13/100\n",
      "1875/1875 [==============================] - 3s 1ms/step - loss: 0.2462 - accuracy: 0.9328\n",
      "Epoch 14/100\n",
      "1875/1875 [==============================] - 3s 1ms/step - loss: 0.2449 - accuracy: 0.9324\n",
      "Epoch 15/100\n",
      "1875/1875 [==============================] - 3s 1ms/step - loss: 0.2440 - accuracy: 0.9323\n",
      "Epoch 16/100\n",
      "1875/1875 [==============================] - 3s 1ms/step - loss: 0.2431 - accuracy: 0.9328\n",
      "Epoch 17/100\n",
      "1875/1875 [==============================] - 3s 1ms/step - loss: 0.2423 - accuracy: 0.9334\n",
      "Epoch 18/100\n",
      "1875/1875 [==============================] - 3s 1ms/step - loss: 0.2411 - accuracy: 0.9340\n",
      "Epoch 19/100\n",
      "1875/1875 [==============================] - 3s 1ms/step - loss: 0.2405 - accuracy: 0.9338\n",
      "Epoch 20/100\n",
      "1875/1875 [==============================] - 3s 1ms/step - loss: 0.2396 - accuracy: 0.9343\n",
      "Epoch 21/100\n",
      "1875/1875 [==============================] - 3s 1ms/step - loss: 0.2386 - accuracy: 0.9345\n",
      "Epoch 22/100\n",
      "1875/1875 [==============================] - 3s 1ms/step - loss: 0.2386 - accuracy: 0.9344\n",
      "Epoch 23/100\n",
      "1875/1875 [==============================] - 3s 1ms/step - loss: 0.2372 - accuracy: 0.9341\n",
      "Epoch 24/100\n",
      "1875/1875 [==============================] - 3s 1ms/step - loss: 0.2374 - accuracy: 0.9341\n",
      "Epoch 25/100\n",
      "1875/1875 [==============================] - 3s 1ms/step - loss: 0.2363 - accuracy: 0.9344\n",
      "Epoch 26/100\n",
      "1875/1875 [==============================] - 3s 1ms/step - loss: 0.2359 - accuracy: 0.9352\n",
      "Epoch 27/100\n",
      "1875/1875 [==============================] - 3s 1ms/step - loss: 0.2355 - accuracy: 0.9345\n",
      "Epoch 28/100\n",
      "1875/1875 [==============================] - 3s 1ms/step - loss: 0.2351 - accuracy: 0.9354\n",
      "Epoch 29/100\n",
      "1875/1875 [==============================] - 3s 1ms/step - loss: 0.2348 - accuracy: 0.9352\n",
      "Epoch 30/100\n",
      "1875/1875 [==============================] - 3s 1ms/step - loss: 0.2341 - accuracy: 0.9357\n",
      "Epoch 31/100\n",
      "1875/1875 [==============================] - 3s 1ms/step - loss: 0.2339 - accuracy: 0.9348\n",
      "Epoch 32/100\n",
      "1875/1875 [==============================] - 3s 1ms/step - loss: 0.2334 - accuracy: 0.9353\n",
      "Epoch 33/100\n",
      "1875/1875 [==============================] - 3s 1ms/step - loss: 0.2326 - accuracy: 0.9358\n",
      "Epoch 34/100\n",
      "1875/1875 [==============================] - 3s 1ms/step - loss: 0.2331 - accuracy: 0.9363\n",
      "Epoch 35/100\n",
      "1875/1875 [==============================] - 3s 1ms/step - loss: 0.2323 - accuracy: 0.9354\n",
      "Epoch 36/100\n",
      "1875/1875 [==============================] - 3s 1ms/step - loss: 0.2323 - accuracy: 0.9357\n",
      "Epoch 37/100\n",
      "1875/1875 [==============================] - 3s 1ms/step - loss: 0.2320 - accuracy: 0.9362\n",
      "Epoch 38/100\n",
      "1875/1875 [==============================] - 3s 1ms/step - loss: 0.2314 - accuracy: 0.9362\n",
      "Epoch 39/100\n",
      "1875/1875 [==============================] - 3s 1ms/step - loss: 0.2310 - accuracy: 0.9361\n",
      "Epoch 40/100\n",
      "1875/1875 [==============================] - 3s 1ms/step - loss: 0.2313 - accuracy: 0.9364\n",
      "Epoch 41/100\n",
      "1875/1875 [==============================] - 3s 1ms/step - loss: 0.2304 - accuracy: 0.9363\n",
      "Epoch 42/100\n",
      "1875/1875 [==============================] - 3s 1ms/step - loss: 0.2299 - accuracy: 0.9361\n",
      "Epoch 43/100\n",
      "1875/1875 [==============================] - 3s 1ms/step - loss: 0.2301 - accuracy: 0.9366\n",
      "Epoch 44/100\n",
      "1875/1875 [==============================] - 3s 1ms/step - loss: 0.2295 - accuracy: 0.9363\n",
      "Epoch 45/100\n",
      "1875/1875 [==============================] - 3s 1ms/step - loss: 0.2298 - accuracy: 0.9367\n",
      "Epoch 46/100\n",
      "1875/1875 [==============================] - 3s 1ms/step - loss: 0.2293 - accuracy: 0.9358\n",
      "Epoch 47/100\n",
      "1875/1875 [==============================] - 3s 1ms/step - loss: 0.2293 - accuracy: 0.9360\n",
      "Epoch 48/100\n",
      "1875/1875 [==============================] - 3s 1ms/step - loss: 0.2289 - accuracy: 0.9366\n",
      "Epoch 49/100\n",
      "1875/1875 [==============================] - 3s 1ms/step - loss: 0.2287 - accuracy: 0.9364\n",
      "Epoch 50/100\n",
      "1875/1875 [==============================] - 3s 1ms/step - loss: 0.2286 - accuracy: 0.9369\n",
      "Epoch 51/100\n",
      "1875/1875 [==============================] - 3s 1ms/step - loss: 0.2282 - accuracy: 0.9368\n",
      "Epoch 52/100\n",
      "1875/1875 [==============================] - 3s 1ms/step - loss: 0.2282 - accuracy: 0.9364\n",
      "Epoch 53/100\n",
      "1875/1875 [==============================] - 3s 1ms/step - loss: 0.2280 - accuracy: 0.9365\n",
      "Epoch 54/100\n",
      "1875/1875 [==============================] - 3s 1ms/step - loss: 0.2275 - accuracy: 0.9371\n",
      "Epoch 55/100\n",
      "1875/1875 [==============================] - 3s 1ms/step - loss: 0.2275 - accuracy: 0.9371\n",
      "Epoch 56/100\n",
      "1875/1875 [==============================] - 3s 1ms/step - loss: 0.2272 - accuracy: 0.9368\n",
      "Epoch 57/100\n",
      "1875/1875 [==============================] - 3s 1ms/step - loss: 0.2273 - accuracy: 0.9373\n",
      "Epoch 58/100\n",
      "1875/1875 [==============================] - 3s 1ms/step - loss: 0.2271 - accuracy: 0.9371\n",
      "Epoch 59/100\n",
      "1875/1875 [==============================] - 3s 1ms/step - loss: 0.2266 - accuracy: 0.9371\n",
      "Epoch 60/100\n",
      "1875/1875 [==============================] - 3s 1ms/step - loss: 0.2268 - accuracy: 0.9366: \n",
      "Epoch 61/100\n",
      "1875/1875 [==============================] - 3s 2ms/step - loss: 0.2264 - accuracy: 0.9370\n",
      "Epoch 62/100\n",
      "1875/1875 [==============================] - 3s 1ms/step - loss: 0.2264 - accuracy: 0.9370\n",
      "Epoch 63/100\n",
      "1875/1875 [==============================] - 3s 1ms/step - loss: 0.2263 - accuracy: 0.9369\n",
      "Epoch 64/100\n",
      "1875/1875 [==============================] - 3s 1ms/step - loss: 0.2261 - accuracy: 0.9374\n",
      "Epoch 65/100\n",
      "1875/1875 [==============================] - 3s 1ms/step - loss: 0.2261 - accuracy: 0.9373\n",
      "Epoch 66/100\n",
      "1875/1875 [==============================] - 3s 1ms/step - loss: 0.2255 - accuracy: 0.9370\n",
      "Epoch 67/100\n",
      "1875/1875 [==============================] - 3s 1ms/step - loss: 0.2256 - accuracy: 0.9373\n",
      "Epoch 68/100\n",
      "1875/1875 [==============================] - 3s 1ms/step - loss: 0.2250 - accuracy: 0.9375\n",
      "Epoch 69/100\n",
      "1875/1875 [==============================] - 3s 1ms/step - loss: 0.2252 - accuracy: 0.9377\n",
      "Epoch 70/100\n",
      "1875/1875 [==============================] - 3s 1ms/step - loss: 0.2254 - accuracy: 0.9373\n",
      "Epoch 71/100\n",
      "1875/1875 [==============================] - 3s 1ms/step - loss: 0.2250 - accuracy: 0.9373\n",
      "Epoch 72/100\n",
      "1875/1875 [==============================] - 3s 2ms/step - loss: 0.2248 - accuracy: 0.9370\n",
      "Epoch 73/100\n",
      "1875/1875 [==============================] - 3s 2ms/step - loss: 0.2249 - accuracy: 0.9372\n",
      "Epoch 74/100\n",
      "1875/1875 [==============================] - 3s 2ms/step - loss: 0.2246 - accuracy: 0.9375\n",
      "Epoch 75/100\n",
      "1875/1875 [==============================] - 3s 2ms/step - loss: 0.2243 - accuracy: 0.9377\n",
      "Epoch 76/100\n",
      "1875/1875 [==============================] - 3s 2ms/step - loss: 0.2243 - accuracy: 0.9380\n",
      "Epoch 77/100\n",
      "1875/1875 [==============================] - 4s 2ms/step - loss: 0.2240 - accuracy: 0.9372\n",
      "Epoch 78/100\n",
      "1875/1875 [==============================] - 3s 2ms/step - loss: 0.2239 - accuracy: 0.9380\n",
      "Epoch 79/100\n",
      "1875/1875 [==============================] - 3s 2ms/step - loss: 0.2240 - accuracy: 0.9378\n",
      "Epoch 80/100\n",
      "1875/1875 [==============================] - 3s 2ms/step - loss: 0.2237 - accuracy: 0.9379\n",
      "Epoch 81/100\n",
      "1875/1875 [==============================] - 3s 2ms/step - loss: 0.2242 - accuracy: 0.9377: 0s - loss: 0.2\n",
      "Epoch 82/100\n",
      "1875/1875 [==============================] - 3s 2ms/step - loss: 0.2236 - accuracy: 0.9376\n",
      "Epoch 83/100\n",
      "1875/1875 [==============================] - 3s 2ms/step - loss: 0.2233 - accuracy: 0.9379\n",
      "Epoch 84/100\n",
      "1875/1875 [==============================] - 3s 2ms/step - loss: 0.2232 - accuracy: 0.9378\n",
      "Epoch 85/100\n",
      "1875/1875 [==============================] - 3s 2ms/step - loss: 0.2233 - accuracy: 0.9378\n",
      "Epoch 86/100\n",
      "1875/1875 [==============================] - 4s 2ms/step - loss: 0.2232 - accuracy: 0.9378\n",
      "Epoch 87/100\n",
      "1875/1875 [==============================] - 4s 2ms/step - loss: 0.2230 - accuracy: 0.9377\n",
      "Epoch 88/100\n",
      "1875/1875 [==============================] - 3s 1ms/step - loss: 0.2229 - accuracy: 0.9380\n",
      "Epoch 89/100\n",
      "1875/1875 [==============================] - 3s 1ms/step - loss: 0.2231 - accuracy: 0.9379\n",
      "Epoch 90/100\n",
      "1875/1875 [==============================] - 3s 1ms/step - loss: 0.2228 - accuracy: 0.9381\n",
      "Epoch 91/100\n",
      "1875/1875 [==============================] - 3s 1ms/step - loss: 0.2229 - accuracy: 0.9373\n",
      "Epoch 92/100\n",
      "1875/1875 [==============================] - 3s 1ms/step - loss: 0.2228 - accuracy: 0.9380\n",
      "Epoch 93/100\n",
      "1875/1875 [==============================] - 3s 1ms/step - loss: 0.2224 - accuracy: 0.9380\n",
      "Epoch 94/100\n",
      "1875/1875 [==============================] - 3s 1ms/step - loss: 0.2227 - accuracy: 0.9376\n",
      "Epoch 95/100\n",
      "1875/1875 [==============================] - 3s 1ms/step - loss: 0.2221 - accuracy: 0.9379\n",
      "Epoch 96/100\n",
      "1875/1875 [==============================] - 3s 1ms/step - loss: 0.2224 - accuracy: 0.9379\n",
      "Epoch 97/100\n",
      "1875/1875 [==============================] - 3s 1ms/step - loss: 0.2225 - accuracy: 0.9382\n",
      "Epoch 98/100\n",
      "1875/1875 [==============================] - 3s 1ms/step - loss: 0.2222 - accuracy: 0.9382\n",
      "Epoch 99/100\n",
      "1875/1875 [==============================] - 3s 1ms/step - loss: 0.2219 - accuracy: 0.9384\n",
      "Epoch 100/100\n",
      "1875/1875 [==============================] - 3s 1ms/step - loss: 0.2218 - accuracy: 0.9384\n"
     ]
    }
   ],
   "source": [
    "model_mnst_num_epochs = 100\n",
    "\n",
    "model_mnst_history = model_mnst.fit(XM_train_scld, ym_train_cat, epochs=model_mnst_num_epochs)"
   ]
  },
  {
   "cell_type": "code",
   "execution_count": 15,
   "metadata": {},
   "outputs": [
    {
     "data": {
      "text/plain": [
       "[<matplotlib.lines.Line2D at 0x1442fae10>]"
      ]
     },
     "execution_count": 15,
     "metadata": {},
     "output_type": "execute_result"
    },
    {
     "data": {
      "image/png": "[encoded data removed]",
      "text/plain": [
       "<Figure size 432x288 with 1 Axes>"
      ]
     },
     "metadata": {
      "needs_background": "light"
     },
     "output_type": "display_data"
    }
   ],
   "source": [
    "plt.figure()\n",
    "plt.plot(range(model_mnst_num_epochs), model_mnst_history.history['loss'])"
   ]
  },
  {
   "cell_type": "markdown",
   "metadata": {
    "colab_type": "text",
    "id": "zv_3xNMjzdLI"
   },
   "source": [
    "## Stretch Goals:\n",
    "\n",
    "- Use Hyperparameter Tuning to make the accuracy of your models as high as possible. (error as low as possible)\n",
    "- Use Cross Validation techniques to get more consistent results with your model.\n",
    "- Use GridSearchCV to try different combinations of hyperparameters. \n",
    "- Start looking into other types of Keras layers for CNNs and RNNs maybe try and build a CNN model for fashion-MNIST to see how the results compare."
   ]
  }
 ],
 "metadata": {
  "colab": {
   "name": "LS_DS_433_Keras_Assignment.ipynb",
   "provenance": [],
   "version": "0.3.2"
  },
  "kernelspec": {
   "display_name": "U4-S2-NNF (Python3)",
   "language": "python",
   "name": "u4-s2-nnf"
  },
  "language_info": {
   "codemirror_mode": {
    "name": "ipython",
    "version": 3
   },
   "file_extension": ".py",
   "mimetype": "text/x-python",
   "name": "python",
   "nbconvert_exporter": "python",
   "pygments_lexer": "ipython3",
   "version": "3.7.0"
  }
 },
 "nbformat": 4,
 "nbformat_minor": 4
}
