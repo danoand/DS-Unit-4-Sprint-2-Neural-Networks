{
 "cells": [
  {
   "cell_type": "code",
   "execution_count": 1,
   "metadata": {},
   "outputs": [],
   "source": [
    "# Generate feature and output data\n",
    "import numpy as np\n",
    "\n",
    "np.random.seed(812)\n",
    "\n",
    "# Hours: Studying, Sleeping\n",
    "X = np.array((\n",
    "        [2,9],\n",
    "        [1,5],\n",
    "        [3,6]), dtype=float)\n",
    "\n",
    "# Exam Scores\n",
    "y = np.array((\n",
    "        [90],\n",
    "        [72],\n",
    "        [80]), dtype=float)"
   ]
  },
  {
   "cell_type": "code",
   "execution_count": 2,
   "metadata": {},
   "outputs": [],
   "source": [
    "# Normalize the data\n",
    "X = X / np.amax(X, axis=0)\n",
    "y = y / 100"
   ]
  },
  {
   "cell_type": "code",
   "execution_count": 3,
   "metadata": {},
   "outputs": [],
   "source": [
    "# Define a class to encapsulate the Neural Networking functionality\n",
    "class NeuralNetwork:\n",
    "    \n",
    "    # Initialize the class\n",
    "    def __init__(self):\n",
    "        self.inputs = 2\n",
    "        self.hiddenNodes = 3\n",
    "        self.outputNodes = 1\n",
    "        \n",
    "        # Initialize Weights\n",
    "        # 2x3 \"synapses\" between the input layer and the hidden layer\n",
    "        self.weights1 = np.random.randn(self.inputs, self.hiddenNodes)\n",
    "\n",
    "        # 3x1\n",
    "        self.weights2 = np.random.randn(self.hiddenNodes, self.outputNodes)\n",
    "    \n",
    "    # Define an activation function/method\n",
    "    def sigmoid(self, s):\n",
    "        return 1 / (1 + np.exp(-s))\n",
    "    \n",
    "    # Define the feed forward mechanism\n",
    "    def feed_forward(self, X):\n",
    "        \"\"\"\n",
    "        Calculate the Neural Network inference using feed forward\n",
    "        \"\"\"\n",
    "        \n",
    "        # Generate the weighted sum value (dot product of X and input to hidden layer weights)\n",
    "        self.hidden_sum = np.dot(X, self.weights1)\n",
    "        \n",
    "        # Activate hidden layer nodes via the sigmoid function\n",
    "        self.activated_hidden = self.sigmoid(self.hidden_sum)\n",
    "\n",
    "        # Generate the weighed sum value (dot product of hidden_sum and hidden layer to output weights)\n",
    "        self.output_sum = np.dot(self.activated_hidden, self.weights2)\n",
    "        \n",
    "        # Activate the output layer for the final outputs\n",
    "        self.activated_output = self.sigmoid(self.output_sum)\n",
    "        \n",
    "        # Return the activated output\n",
    "        return self.activated_output"
   ]
  },
  {
   "cell_type": "code",
   "execution_count": 4,
   "metadata": {},
   "outputs": [
    {
     "name": "stdout",
     "output_type": "stream",
     "text": [
      "[[0.43421496]\n",
      " [0.43933896]\n",
      " [0.45935482]]\n",
      "[[0.46578504]\n",
      " [0.28066104]\n",
      " [0.34064518]]\n"
     ]
    }
   ],
   "source": [
    "# Instantiate the class\n",
    "nn = NeuralNetwork()\n",
    "output_all = nn.feed_forward(X)\n",
    "error_all  = y - output_all\n",
    "\n",
    "print(output_all)\n",
    "print(error_all)"
   ]
  },
  {
   "cell_type": "code",
   "execution_count": null,
   "metadata": {},
   "outputs": [],
   "source": []
  }
 ],
 "metadata": {
  "kernelspec": {
   "display_name": "U4-S2-NNF (Python3)",
   "language": "python",
   "name": "u4-s2-nnf"
  },
  "language_info": {
   "codemirror_mode": {
    "name": "ipython",
    "version": 3
   },
   "file_extension": ".py",
   "mimetype": "text/x-python",
   "name": "python",
   "nbconvert_exporter": "python",
   "pygments_lexer": "ipython3",
   "version": "3.7.0"
  }
 },
 "nbformat": 4,
 "nbformat_minor": 4
}
