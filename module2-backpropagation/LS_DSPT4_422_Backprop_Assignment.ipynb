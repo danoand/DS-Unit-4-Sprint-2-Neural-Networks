{
 "cells": [
  {
   "cell_type": "markdown",
   "metadata": {
    "toc": true
   },
   "source": [
    "<h1>Table of Contents<span class=\"tocSkip\"></span></h1>\n",
    "<div class=\"toc\"><ul class=\"toc-item\"><li><span><a href=\"#Backpropagation-Practice\" data-toc-modified-id=\"Backpropagation-Practice-1\"><span class=\"toc-item-num\">1&nbsp;&nbsp;</span>Backpropagation Practice</a></span><ul class=\"toc-item\"><li><span><a href=\"#Data-Science-Unit-4-Sprint-2-Assignment-2\" data-toc-modified-id=\"Data-Science-Unit-4-Sprint-2-Assignment-2-1.1\"><span class=\"toc-item-num\">1.1&nbsp;&nbsp;</span><em>Data Science Unit 4 Sprint 2 Assignment 2</em></a></span></li><li><span><a href=\"#Try-building/training-a-more-complex-MLP-on-a-bigger-dataset.\" data-toc-modified-id=\"Try-building/training-a-more-complex-MLP-on-a-bigger-dataset.-1.2\"><span class=\"toc-item-num\">1.2&nbsp;&nbsp;</span>Try building/training a more complex MLP on a bigger dataset.</a></span></li><li><span><a href=\"#Stretch-Goals:\" data-toc-modified-id=\"Stretch-Goals:-1.3\"><span class=\"toc-item-num\">1.3&nbsp;&nbsp;</span>Stretch Goals:</a></span></li></ul></li></ul></div>"
   ]
  },
  {
   "cell_type": "markdown",
   "metadata": {
    "colab_type": "text",
    "id": "NGGrt9EYlCqY"
   },
   "source": [
    "<img align=\"left\" src=\"https://lever-client-logos.s3.amazonaws.com/864372b1-534c-480e-acd5-9711f850815c-1524247202159.png\" width=200>\n",
    "<br></br>\n",
    "\n",
    "# Backpropagation Practice\n",
    "\n",
    "## *Data Science Unit 4 Sprint 2 Assignment 2*\n",
    "\n",
    "Implement a 3 input, 4 node hidden-layer, 1 output node Multilayer Perceptron on the following dataset:\n",
    "\n",
    "| x1 | x2 | x3 | y |\n",
    "|----|----|----|---|\n",
    "| 0  | 0  | 1  | 0 |\n",
    "| 0  | 1  | 1  | 1 |\n",
    "| 1  | 0  | 1  | 1 |\n",
    "| 0  | 1  | 0  | 1 |\n",
    "| 1  | 0  | 0  | 1 |\n",
    "| 1  | 1  | 1  | 0 |\n",
    "| 0  | 0  | 0  | 0 |\n",
    "\n",
    "If you look at the data you'll notice that the first two columns behave like an XOR gate while the last column is mostly just noise. Remember that creating an XOR gate was what the perceptron was criticized for not being able to learn. "
   ]
  },
  {
   "cell_type": "markdown",
   "metadata": {},
   "source": [
    "### IMPORTS"
   ]
  },
  {
   "cell_type": "code",
   "execution_count": 1,
   "metadata": {},
   "outputs": [],
   "source": [
    "import pandas as pd\n",
    "import numpy as np"
   ]
  },
  {
   "cell_type": "markdown",
   "metadata": {},
   "source": [
    "### CREATE INPUT & OUTPUT DATASETS"
   ]
  },
  {
   "cell_type": "code",
   "execution_count": 2,
   "metadata": {
    "colab": {},
    "colab_type": "code",
    "id": "nEREYT-3wI1f"
   },
   "outputs": [],
   "source": [
    "# Create input and output data structures\n",
    "df_X = pd.DataFrame({\n",
    "    \"x1\": [0,0,1,0,1,1,0],\n",
    "    \"x2\": [0,1,0,1,0,1,0],\n",
    "    \"x3\": [1,1,1,0,0,1,0]\n",
    "})\n",
    "\n",
    "df_y = pd.DataFrame({\n",
    "    \"y\": [0,1,1,1,1,0,0]\n",
    "})"
   ]
  },
  {
   "cell_type": "code",
   "execution_count": 3,
   "metadata": {},
   "outputs": [],
   "source": [
    "X = df_X.to_numpy()\n",
    "y = df_y.to_numpy()"
   ]
  },
  {
   "cell_type": "markdown",
   "metadata": {},
   "source": [
    "### DEFINE A NEURAL NETWORK CLASS"
   ]
  },
  {
   "cell_type": "code",
   "execution_count": 4,
   "metadata": {},
   "outputs": [],
   "source": [
    "class NeuralNetwork:\n",
    "    \n",
    "    # Initialize a class instance\n",
    "    def __init__(self):\n",
    "        # Define the network architecture\n",
    "        self.num_inputs = 3\n",
    "        self.num_hiddenNodes = 4\n",
    "        self.num_outputNodes = 1\n",
    "        self.store_activated_output = 0\n",
    "        \n",
    "        # Initialize a two sets of weights for the:\n",
    "        #   a. input to hidden layer path\n",
    "        #   b. hidden layer to output path\n",
    "        self.weights_a = np.random.randn(self.num_inputs, self.num_hiddenNodes)\n",
    "        self.weights_b = np.random.randn(self.num_hiddenNodes, self.num_outputNodes)\n",
    "        \n",
    "    # Define a sigmoid activation function\n",
    "    def sigmoid(self, s):\n",
    "        return 1 / (1+np.exp(-s))\n",
    "    \n",
    "    # Define derivative sigmoid function\n",
    "    def sigmoidPrime(self, s):\n",
    "        sx = self.sigmoid(s)\n",
    "        return sx * (1-sx)\n",
    "    \n",
    "    # Define the Feed Forward Function\n",
    "    def feed_forward(self, X):\n",
    "        \n",
    "        # Calculate the weighted sums for the input to hidden layer path\n",
    "        self.hidden_sum = np.dot(X, self.weights_a)\n",
    "        \n",
    "        # Activate the hidden layer neurons via the sigmoid function\n",
    "        self.activate_hidden = self.sigmoid(self.hidden_sum)\n",
    "        \n",
    "        # Calculate the weighted sum for the hidden to output layer path\n",
    "        self.output_sum = np.dot(self.activate_hidden, self.weights_b)\n",
    "        \n",
    "        # Activate the output neuron and return the output layer as the feed forward result\n",
    "        self.activated_output = self.sigmoid(self.output_sum)\n",
    "        \n",
    "        # Return\n",
    "        self.store_activated_output = self.activated_output\n",
    "        return self.activated_output\n",
    "    \n",
    "    # Define the Backward propagation function\n",
    "    def back_propagation(self, X, y, otput):\n",
    "        \n",
    "        # Calculate the output layer error\n",
    "        self.out_error = y - otput\n",
    "        \n",
    "        # Apply the derivative of the sigmoid function to the error values\n",
    "        self.out_delta = self.out_error * self.sigmoidPrime(self.output_sum)\n",
    "        \n",
    "        # Calculate the hidden layer error\n",
    "        self.hidden_error = self.out_delta.dot(self.weights_b.T)\n",
    "        \n",
    "        # Apply the derivative of the sigmoid function to the error values\n",
    "        self.hidden_delta = self.hidden_error * self.sigmoidPrime(self.hidden_sum)\n",
    "        \n",
    "        # Adjust the weights accordingly\n",
    "        \n",
    "        # Adjust hidden to the output layer weights\n",
    "        self.weights_b += self.activate_hidden.T.dot(self.out_delta)\n",
    "        # Adjust input to hidden layer weights\n",
    "        self.weights_a += X.T.dot(self.hidden_delta)\n",
    "        \n",
    "    # Train the the model\n",
    "    def train(self, X, y):\n",
    "        o = self.feed_forward(X)\n",
    "        self.back_propagation(X, y, o) \n",
    "        \n",
    "    # Grab the last feed_forward value\n",
    "    def get_ff_value(self):\n",
    "        return self.store_activated_output"
   ]
  },
  {
   "cell_type": "markdown",
   "metadata": {},
   "source": [
    "### Execute One Epoch"
   ]
  },
  {
   "cell_type": "code",
   "execution_count": 5,
   "metadata": {},
   "outputs": [],
   "source": [
    "# Declare a modeling \n",
    "nn = NeuralNetwork()\n",
    "nn.train(X, y)"
   ]
  },
  {
   "cell_type": "code",
   "execution_count": 6,
   "metadata": {},
   "outputs": [
    {
     "data": {
      "text/plain": [
       "array([[-0.71353128],\n",
       "       [ 0.13917364],\n",
       "       [ 0.23800343],\n",
       "       [ 0.06814565],\n",
       "       [ 0.14108585],\n",
       "       [-0.85841954],\n",
       "       [-0.85912407]])"
      ]
     },
     "execution_count": 6,
     "metadata": {},
     "output_type": "execute_result"
    }
   ],
   "source": [
    "nn.out_error"
   ]
  },
  {
   "cell_type": "markdown",
   "metadata": {},
   "source": [
    "### Iterate Through the Model Cycling Through Multiple Epochs"
   ]
  },
  {
   "cell_type": "code",
   "execution_count": 8,
   "metadata": {},
   "outputs": [
    {
     "name": "stdout",
     "output_type": "stream",
     "text": [
      "***** Iteration #0 *****\n",
      "Predicted Output:\n",
      "0\n",
      "Loss:\n",
      "0.5714285714285714\n",
      "***** Iteration #1000 *****\n",
      "Predicted Output:\n",
      "[[0.01014967]\n",
      " [0.94678694]\n",
      " [0.9540055 ]\n",
      " [0.95608895]\n",
      " [0.95685719]\n",
      " [0.04459378]\n",
      " [0.09365331]]\n",
      "Loss:\n",
      "0.0027998812157787392\n",
      "***** Iteration #2000 *****\n",
      "Predicted Output:\n",
      "[[0.00587448]\n",
      " [0.96557425]\n",
      " [0.97030267]\n",
      " [0.9706094 ]\n",
      " [0.97171629]\n",
      " [0.02469124]\n",
      " [0.06426691]]\n",
      "Loss:\n",
      "0.0012150345276118796\n",
      "***** Iteration #3000 *****\n",
      "Predicted Output:\n",
      "[[0.00440319]\n",
      " [0.97273051]\n",
      " [0.97646314]\n",
      " [0.97636927]\n",
      " [0.97745445]\n",
      " [0.0180679 ]\n",
      " [0.05206272]]\n",
      "Loss:\n",
      "0.0007743836032964283\n",
      "***** Iteration #4000 *****\n",
      "Predicted Output:\n",
      "[[0.00361864]\n",
      " [0.97675672]\n",
      " [0.97992481]\n",
      " [0.97967542]\n",
      " [0.98070801]\n",
      " [0.01461613]\n",
      " [0.04494301]]\n",
      "Loss:\n",
      "0.0005678760618502684\n",
      "***** Iteration #5000 *****\n",
      "Predicted Output:\n",
      "[[0.00311864]\n",
      " [0.97941828]\n",
      " [0.98221295]\n",
      " [0.98188917]\n",
      " [0.98287005]\n",
      " [0.01245265]\n",
      " [0.04013511]]\n",
      "Loss:\n",
      "0.0004481492555105945\n",
      "***** Iteration #6000 *****\n",
      "Predicted Output:\n",
      "[[0.00276694]\n",
      " [0.98134305]\n",
      " [0.98386803]\n",
      " [0.98350489]\n",
      " [0.98443961]\n",
      " [0.01095032]\n",
      " [0.03660748]]\n",
      "Loss:\n",
      "0.00037002998986074726\n",
      "***** Iteration #7000 *****\n",
      "Predicted Output:\n",
      "[[0.00250347]\n",
      " [0.98281744]\n",
      " [0.98513624]\n",
      " [0.9847513 ]\n",
      " [0.9856455 ]\n",
      " [0.00983652]\n",
      " [0.03387632]]\n",
      "Loss:\n",
      "0.00031505365772481003\n",
      "***** Iteration #8000 *****\n",
      "Predicted Output:\n",
      "[[0.00229727]\n",
      " [0.98399304]\n",
      " [0.98614779]\n",
      " [0.98575077]\n",
      " [0.98660935]\n",
      " [0.00897229]\n",
      " [0.03168049]]\n",
      "Loss:\n",
      "0.000274269978279191\n",
      "***** Iteration #9000 *****\n",
      "Predicted Output:\n",
      "[[0.0021306 ]\n",
      " [0.98495855]\n",
      " [0.98697884]\n",
      " [0.98657546]\n",
      " [0.98740253]\n",
      " [0.00827885]\n",
      " [0.02986499]]\n",
      "Loss:\n",
      "0.00024281530493821916\n"
     ]
    }
   ],
   "source": [
    "# Redeclare the model object\n",
    "nn = NeuralNetwork()\n",
    "\n",
    "# Iterate through 10000 Epochs (Cycles)\n",
    "for i in range(10000):\n",
    "    # Print out processing data at certain epochs\n",
    "    if i % 1000 == 0:\n",
    "        print(f'***** Iteration #{i} *****')\n",
    "        print(f'Predicted Output:\\n{str(nn.get_ff_value())}')\n",
    "        print(f'Loss:\\n{str(np.mean(np.square(y - nn.get_ff_value())))}')\n",
    "        \n",
    "    # Execute an iteration via the train method\n",
    "    nn.train(X, y)    "
   ]
  },
  {
   "cell_type": "markdown",
   "metadata": {
    "colab_type": "text",
    "id": "8b-r70o8p2Dm"
   },
   "source": [
    "## Try building/training a more complex MLP on a bigger dataset.\n",
    "\n",
    "Use the [MNIST dataset](http://yann.lecun.com/exdb/mnist/) to build the cannonical handwriting digit recognizer and see what kind of accuracy you can achieve. \n",
    "\n",
    "If you need inspiration, the internet is chalk-full of tutorials, but I want you to see how far you can get on your own first. I've linked to the original MNIST dataset above but it will probably be easier to download data through a neural network library. If you reference outside resources make sure you understand every line of code that you're using from other sources, and share with your fellow students helpful resources that you find.\n"
   ]
  },
  {
   "cell_type": "code",
   "execution_count": 9,
   "metadata": {
    "colab": {},
    "colab_type": "code",
    "id": "5MOPtYdk1HgA"
   },
   "outputs": [
    {
     "name": "stdout",
     "output_type": "stream",
     "text": [
      "Downloading data from https://storage.googleapis.com/tensorflow/tf-keras-datasets/train-labels-idx1-ubyte.gz\n",
      "32768/29515 [=================================] - 0s 1us/step\n",
      "Downloading data from https://storage.googleapis.com/tensorflow/tf-keras-datasets/train-images-idx3-ubyte.gz\n",
      "26427392/26421880 [==============================] - 5s 0us/step\n",
      "Downloading data from https://storage.googleapis.com/tensorflow/tf-keras-datasets/t10k-labels-idx1-ubyte.gz\n",
      "8192/5148 [===============================================] - 0s 0us/step\n",
      "Downloading data from https://storage.googleapis.com/tensorflow/tf-keras-datasets/t10k-images-idx3-ubyte.gz\n",
      "4423680/4422102 [==============================] - 1s 0us/step\n",
      "(60000, 28, 28) (10000, 28, 28)\n"
     ]
    }
   ],
   "source": [
    "from tensorflow.keras.datasets import fashion_mnist\n",
    "\n",
    "# Load data\n",
    "(X_train, y_train), (X_test, y_test) = fashion_mnist.load_data()\n",
    "print(X_train.shape, X_test.shape)"
   ]
  },
  {
   "cell_type": "code",
   "execution_count": 10,
   "metadata": {},
   "outputs": [
    {
     "data": {
      "image/png": "[encoded data removed]",
      "text/plain": [
       "<Figure size 432x288 with 9 Axes>"
      ]
     },
     "metadata": {
      "needs_background": "light"
     },
     "output_type": "display_data"
    }
   ],
   "source": [
    "import matplotlib.pyplot as plt\n",
    "\n",
    "for i in range(9):\n",
    "    # Define subplot\n",
    "    plt.subplot(330 + 1 + i)\n",
    "    \n",
    "    # Plot raw pixel data\n",
    "    plt.imshow(X_train[i], cmap=plt.get_cmap('gray'))\n",
    "    plt.axis('off')\n",
    "\n",
    "# Show the figure\n",
    "plt.show()"
   ]
  },
  {
   "cell_type": "markdown",
   "metadata": {},
   "source": [
    "### Flatten the X Dataset Rows\n",
    "From 28 x 28 matrices to single arrays"
   ]
  },
  {
   "cell_type": "code",
   "execution_count": 68,
   "metadata": {},
   "outputs": [],
   "source": [
    "tmp_X_trn_flat = []\n",
    "\n",
    "# Create a list of flattened X_train rows\n",
    "for i in range(len(X_train)):\n",
    "    tmp_X_trn_flat.append(list(X_train[i].flatten()))"
   ]
  },
  {
   "cell_type": "code",
   "execution_count": 69,
   "metadata": {},
   "outputs": [
    {
     "data": {
      "text/plain": [
       "list"
      ]
     },
     "execution_count": 69,
     "metadata": {},
     "output_type": "execute_result"
    }
   ],
   "source": [
    "type(tmp_X_trn_flat[0])"
   ]
  },
  {
   "cell_type": "code",
   "execution_count": 70,
   "metadata": {},
   "outputs": [],
   "source": [
    "# Create a dataframe of MNIST documents\n",
    "df_X_trn = pd.DataFrame({\"X_rows\": tmp_X_trn_flat})"
   ]
  },
  {
   "cell_type": "code",
   "execution_count": 73,
   "metadata": {},
   "outputs": [
    {
     "data": {
      "text/plain": [
       "pandas.core.series.Series"
      ]
     },
     "execution_count": 73,
     "metadata": {},
     "output_type": "execute_result"
    }
   ],
   "source": [
    "type(df_X_trn.iloc[2])"
   ]
  },
  {
   "cell_type": "code",
   "execution_count": 74,
   "metadata": {},
   "outputs": [],
   "source": [
    "# Creat numpy object of the dataframe\n",
    "X_trn_flat = df_X_trn.to_numpy()"
   ]
  },
  {
   "cell_type": "code",
   "execution_count": 77,
   "metadata": {},
   "outputs": [
    {
     "data": {
      "text/plain": [
       "(60000, 1)"
      ]
     },
     "execution_count": 77,
     "metadata": {},
     "output_type": "execute_result"
    }
   ],
   "source": [
    "X_trn_flat.shape"
   ]
  },
  {
   "cell_type": "code",
   "execution_count": 103,
   "metadata": {},
   "outputs": [
    {
     "data": {
      "text/plain": [
       "numpy.uint8"
      ]
     },
     "execution_count": 103,
     "metadata": {},
     "output_type": "execute_result"
    }
   ],
   "source": [
    "type(X_trn_flat[0][0][500])"
   ]
  },
  {
   "cell_type": "code",
   "execution_count": 104,
   "metadata": {},
   "outputs": [
    {
     "name": "stdout",
     "output_type": "stream",
     "text": [
      "On data row: 0\n",
      "On data row: 1000\n",
      "On data row: 2000\n",
      "On data row: 3000\n",
      "On data row: 4000\n",
      "On data row: 5000\n",
      "On data row: 6000\n",
      "On data row: 7000\n",
      "On data row: 8000\n",
      "On data row: 9000\n",
      "On data row: 10000\n",
      "On data row: 11000\n",
      "On data row: 12000\n",
      "On data row: 13000\n",
      "On data row: 14000\n",
      "On data row: 15000\n",
      "On data row: 16000\n",
      "On data row: 17000\n",
      "On data row: 18000\n",
      "On data row: 19000\n",
      "On data row: 20000\n",
      "On data row: 21000\n",
      "On data row: 22000\n",
      "On data row: 23000\n",
      "On data row: 24000\n",
      "On data row: 25000\n",
      "On data row: 26000\n",
      "On data row: 27000\n",
      "On data row: 28000\n",
      "On data row: 29000\n",
      "On data row: 30000\n",
      "On data row: 31000\n",
      "On data row: 32000\n",
      "On data row: 33000\n",
      "On data row: 34000\n",
      "On data row: 35000\n",
      "On data row: 36000\n",
      "On data row: 37000\n",
      "On data row: 38000\n",
      "On data row: 39000\n",
      "On data row: 40000\n",
      "On data row: 41000\n",
      "On data row: 42000\n",
      "On data row: 43000\n",
      "On data row: 44000\n",
      "On data row: 45000\n",
      "On data row: 46000\n",
      "On data row: 47000\n",
      "On data row: 48000\n",
      "On data row: 49000\n",
      "On data row: 50000\n",
      "On data row: 51000\n",
      "On data row: 52000\n",
      "On data row: 53000\n",
      "On data row: 54000\n",
      "On data row: 55000\n",
      "On data row: 56000\n",
      "On data row: 57000\n",
      "On data row: 58000\n",
      "On data row: 59000\n"
     ]
    }
   ],
   "source": [
    "X_trn_flat_mtx = np.empty([60000, 784], dtype=int)\n",
    "\n",
    "for i in range(60000):\n",
    "    for j in range(784):\n",
    "        X_trn_flat_mtx[i][j] = X_trn_flat[i][0][j]\n",
    "        \n",
    "    if i % 1000 == 0:\n",
    "        print(f'On data row: {i}')"
   ]
  },
  {
   "cell_type": "code",
   "execution_count": 113,
   "metadata": {},
   "outputs": [],
   "source": [
    "class NeuralNetworkMNIST:\n",
    "    \n",
    "    # Initialize a class instance\n",
    "    def __init__(self, num_in=784, num_hnodes=785, num_onodes=1):\n",
    "        # Define the network architecture\n",
    "        self.num_inputs = num_in\n",
    "        self.num_hiddenNodes = num_hnodes\n",
    "        self.num_outputNodes = num_onodes\n",
    "        self.store_activated_output = 0\n",
    "        \n",
    "        # Initialize a two sets of weights for the:\n",
    "        #   a. input to hidden layer path\n",
    "        #   b. hidden layer to output path\n",
    "        self.weights_a = np.random.randint(self.num_inputs*self.num_hiddenNodes, size=(self.num_inputs, self.num_hiddenNodes))\n",
    "        self.weights_b = np.random.randint(self.num_hiddenNodes*self.num_outputNodes, size=(self.num_hiddenNodes, self.num_outputNodes))\n",
    "        \n",
    "    # Define a sigmoid activation function\n",
    "    def sigmoid(self, s):\n",
    "        return 1 / (1+np.exp(-s))\n",
    "    \n",
    "    # Define derivative sigmoid function\n",
    "    def sigmoidPrime(self, s):\n",
    "        sx = self.sigmoid(s)\n",
    "        return sx * (1-sx)\n",
    "    \n",
    "    # Define the Feed Forward Function\n",
    "    def feed_forward(self, X):\n",
    "        \n",
    "        # Calculate the weighted sums for the input to hidden layer path\n",
    "        self.hidden_sum = np.dot(X, self.weights_a)\n",
    "        \n",
    "        # Activate the hidden layer neurons via the sigmoid function\n",
    "        self.activate_hidden = self.sigmoid(self.hidden_sum)\n",
    "        \n",
    "        # Calculate the weighted sum for the hidden to output layer path\n",
    "        self.output_sum = np.dot(self.activate_hidden, self.weights_b)\n",
    "        \n",
    "        # Activate the output neuron and return the output layer as the feed forward result\n",
    "        self.activated_output = self.sigmoid(self.output_sum)\n",
    "        \n",
    "        # Return\n",
    "        self.store_activated_output = self.activated_output\n",
    "        return self.activated_output\n",
    "    \n",
    "    # Define the Backward propagation function\n",
    "    def back_propagation(self, X, y, otput):\n",
    "        \n",
    "        # Calculate the output layer error\n",
    "        self.out_error = y - otput\n",
    "        \n",
    "        # Apply the derivative of the sigmoid function to the error values\n",
    "        self.out_delta = self.out_error * self.sigmoidPrime(self.output_sum)\n",
    "        \n",
    "        # Calculate the hidden layer error\n",
    "        self.hidden_error = self.out_delta.dot(self.weights_b.T)\n",
    "        \n",
    "        # Apply the derivative of the sigmoid function to the error values\n",
    "        self.hidden_delta = self.hidden_error * self.sigmoidPrime(self.hidden_sum)\n",
    "        \n",
    "        # Adjust the weights accordingly\n",
    "        \n",
    "        # Adjust hidden to the output layer weights\n",
    "        self.weights_b += self.activate_hidden.T.dot(self.out_delta)\n",
    "        # Adjust input to hidden layer weights\n",
    "        self.weights_a += X.T.dot(self.hidden_delta)\n",
    "        \n",
    "    # Train the the model\n",
    "    def train(self, X, y):\n",
    "        o = self.feed_forward(X)\n",
    "        self.back_propagation(X, y, o) \n",
    "        \n",
    "    # Grab the last feed_forward value\n",
    "    def get_ff_value(self):\n",
    "        return self.store_activated_output"
   ]
  },
  {
   "cell_type": "code",
   "execution_count": null,
   "metadata": {},
   "outputs": [],
   "source": [
    "# Declare the model object\n",
    "nn_mnist = NeuralNetworkMNIST()\n",
    "nn_mnist.train(X_trn_flat_mtx, y_train)\n",
    "\n",
    "# Iterate through 2 Epochs (Cycles)\n",
    "for i in range(2):\n",
    "    # Print out processing data at certain epochs\n",
    "    if i % 1000 == 0:\n",
    "        print(f'***** Iteration #{i} *****')\n",
    "        print(f'Predicted Output:\\n{str(nn_mnist.get_ff_value())}')\n",
    "        print(f'Loss:\\n{str(np.mean(np.square(y - nn_mnist.get_ff_value())))}')\n",
    "        \n",
    "    # Execute an iteration via the train method\n",
    "    nn_mnist.train(X_trn_flat_mtx, y_train)  "
   ]
  },
  {
   "cell_type": "markdown",
   "metadata": {
    "colab_type": "text",
    "id": "FwlRJSfBlCvy"
   },
   "source": [
    "## Stretch Goals: \n",
    "\n",
    "- Implement Cross Validation model evaluation on your MNIST implementation \n",
    "- Research different [Gradient Descent Based Optimizers](https://keras.io/optimizers/)\n",
    " - [Siraj Raval the evolution of gradient descent](https://www.youtube.com/watch?v=nhqo0u1a6fw)\n",
    "- Build a housing price estimation model using a neural network. How does its accuracy compare with the regression models that we fit earlier on in class?"
   ]
  }
 ],
 "metadata": {
  "colab": {
   "name": "LS_DS_432_Backprop_Assignment.ipynb",
   "provenance": []
  },
  "kernelspec": {
   "display_name": "U4-S2-NNF (Python3)",
   "language": "python",
   "name": "u4-s2-nnf"
  },
  "language_info": {
   "codemirror_mode": {
    "name": "ipython",
    "version": 3
   },
   "file_extension": ".py",
   "mimetype": "text/x-python",
   "name": "python",
   "nbconvert_exporter": "python",
   "pygments_lexer": "ipython3",
   "version": "3.7.0"
  },
  "toc": {
   "base_numbering": 1,
   "nav_menu": {},
   "number_sections": true,
   "sideBar": true,
   "skip_h1_title": false,
   "title_cell": "Table of Contents",
   "title_sidebar": "Contents",
   "toc_cell": true,
   "toc_position": {},
   "toc_section_display": true,
   "toc_window_display": false
  }
 },
 "nbformat": 4,
 "nbformat_minor": 4
}
